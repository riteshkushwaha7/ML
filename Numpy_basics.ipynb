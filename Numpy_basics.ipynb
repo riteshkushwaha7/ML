{
  "nbformat": 4,
  "nbformat_minor": 0,
  "metadata": {
    "colab": {
      "provenance": [],
      "toc_visible": true,
      "authorship_tag": "ABX9TyPkbofN/iJ0DbIwxa306LTJ",
      "include_colab_link": true
    },
    "kernelspec": {
      "name": "python3",
      "display_name": "Python 3"
    },
    "language_info": {
      "name": "python"
    }
  },
  "cells": [
    {
      "cell_type": "markdown",
      "metadata": {
        "id": "view-in-github",
        "colab_type": "text"
      },
      "source": [
        "<a href=\"https://colab.research.google.com/github/riteshkushwaha7/ML/blob/main/Numpy_basics.ipynb\" target=\"_parent\"><img src=\"https://colab.research.google.com/assets/colab-badge.svg\" alt=\"Open In Colab\"/></a>"
      ]
    },
    {
      "cell_type": "markdown",
      "source": [
        "# Np Array in Numpy"
      ],
      "metadata": {
        "id": "UPsigpCU0NVZ"
      }
    },
    {
      "cell_type": "code",
      "execution_count": 12,
      "metadata": {
        "colab": {
          "base_uri": "https://localhost:8080/"
        },
        "id": "vxwoclwZvByd",
        "outputId": "2eaf5527-2f02-4c6f-c090-df38f54c222c"
      },
      "outputs": [
        {
          "output_type": "execute_result",
          "data": {
            "text/plain": [
              "array([1, 2, 3, 4])"
            ]
          },
          "metadata": {},
          "execution_count": 12
        }
      ],
      "source": [
        "import numpy as np\n",
        "a = np.array([1,2,3,4])\n",
        "a"
      ]
    },
    {
      "cell_type": "code",
      "source": [
        "b = np.array([[1,2,3],[4,5,6],[7,8,9]])\n",
        "print(b)"
      ],
      "metadata": {
        "colab": {
          "base_uri": "https://localhost:8080/"
        },
        "id": "ZX5CzF4fvNLM",
        "outputId": "3ab7f1ea-d7d5-4a9a-d131-c068c73bf46a"
      },
      "execution_count": 13,
      "outputs": [
        {
          "output_type": "stream",
          "name": "stdout",
          "text": [
            "[[1 2 3]\n",
            " [4 5 6]\n",
            " [7 8 9]]\n"
          ]
        }
      ]
    },
    {
      "cell_type": "code",
      "source": [
        "c=np.array([1.0,2.0,3.0,True],dtype=complex)\n",
        "print(c)"
      ],
      "metadata": {
        "colab": {
          "base_uri": "https://localhost:8080/"
        },
        "id": "n8779zBcvdB8",
        "outputId": "47f10a3f-6db0-48da-a6ec-03cb4cf68c1f"
      },
      "execution_count": 14,
      "outputs": [
        {
          "output_type": "stream",
          "name": "stdout",
          "text": [
            "[1.+0.j 2.+0.j 3.+0.j 1.+0.j]\n"
          ]
        }
      ]
    },
    {
      "cell_type": "markdown",
      "source": [
        "# Arange in Numpy"
      ],
      "metadata": {
        "id": "y6HVAtm80Feh"
      }
    },
    {
      "cell_type": "code",
      "source": [
        "d=np.arange(1,50,1)\n",
        "print(d)"
      ],
      "metadata": {
        "colab": {
          "base_uri": "https://localhost:8080/"
        },
        "id": "6FpTPwvCwUuL",
        "outputId": "7ed81e90-8f07-4e8e-8b91-89aa22ce0abd"
      },
      "execution_count": 18,
      "outputs": [
        {
          "output_type": "stream",
          "name": "stdout",
          "text": [
            "[ 1  2  3  4  5  6  7  8  9 10 11 12 13 14 15 16 17 18 19 20 21 22 23 24\n",
            " 25 26 27 28 29 30 31 32 33 34 35 36 37 38 39 40 41 42 43 44 45 46 47 48\n",
            " 49]\n"
          ]
        }
      ]
    },
    {
      "cell_type": "code",
      "source": [
        "np.arange(1,51,1).reshape(10,5)\n",
        "#10 row 5 columns"
      ],
      "metadata": {
        "colab": {
          "base_uri": "https://localhost:8080/"
        },
        "id": "VKPAG9OswsCx",
        "outputId": "1b0d7c9c-2d52-49d0-df4c-6e155c7bce58"
      },
      "execution_count": 22,
      "outputs": [
        {
          "output_type": "execute_result",
          "data": {
            "text/plain": [
              "array([[ 1,  2,  3,  4,  5],\n",
              "       [ 6,  7,  8,  9, 10],\n",
              "       [11, 12, 13, 14, 15],\n",
              "       [16, 17, 18, 19, 20],\n",
              "       [21, 22, 23, 24, 25],\n",
              "       [26, 27, 28, 29, 30],\n",
              "       [31, 32, 33, 34, 35],\n",
              "       [36, 37, 38, 39, 40],\n",
              "       [41, 42, 43, 44, 45],\n",
              "       [46, 47, 48, 49, 50]])"
            ]
          },
          "metadata": {},
          "execution_count": 22
        }
      ]
    },
    {
      "cell_type": "code",
      "source": [
        "np.ones((3,4))"
      ],
      "metadata": {
        "colab": {
          "base_uri": "https://localhost:8080/"
        },
        "id": "4JMEosYK0XMm",
        "outputId": "6e572b15-d0b6-45a0-ea2a-315f98dfef16"
      },
      "execution_count": 23,
      "outputs": [
        {
          "output_type": "execute_result",
          "data": {
            "text/plain": [
              "array([[1., 1., 1., 1.],\n",
              "       [1., 1., 1., 1.],\n",
              "       [1., 1., 1., 1.]])"
            ]
          },
          "metadata": {},
          "execution_count": 23
        }
      ]
    },
    {
      "cell_type": "code",
      "source": [
        "np.zeros((4,4))"
      ],
      "metadata": {
        "colab": {
          "base_uri": "https://localhost:8080/"
        },
        "id": "ZPZDmLRs0eGO",
        "outputId": "7b4129ed-742e-4630-e275-555461cb94c9"
      },
      "execution_count": 24,
      "outputs": [
        {
          "output_type": "execute_result",
          "data": {
            "text/plain": [
              "array([[0., 0., 0., 0.],\n",
              "       [0., 0., 0., 0.],\n",
              "       [0., 0., 0., 0.],\n",
              "       [0., 0., 0., 0.]])"
            ]
          },
          "metadata": {},
          "execution_count": 24
        }
      ]
    },
    {
      "cell_type": "code",
      "source": [
        "\n",
        "r = np.random.random((5, 5))\n",
        "r = r * 100\n",
        "print(np.ceil(r))\n"
      ],
      "metadata": {
        "colab": {
          "base_uri": "https://localhost:8080/"
        },
        "id": "wBRDveXp0nyb",
        "outputId": "d80e7456-c574-4704-e049-8320845d570f"
      },
      "execution_count": 33,
      "outputs": [
        {
          "output_type": "stream",
          "name": "stdout",
          "text": [
            "[[17. 64. 46. 92. 60.]\n",
            " [65. 18. 45. 43. 74.]\n",
            " [83. 33. 77. 68. 43.]\n",
            " [80. 90. 31. 52. 85.]\n",
            " [39.  5.  9. 86. 80.]]\n"
          ]
        }
      ]
    },
    {
      "cell_type": "code",
      "source": [
        "np.linspace(-8,10,20) #lower range, upper range, linerly seperable points(equi distant)"
      ],
      "metadata": {
        "colab": {
          "base_uri": "https://localhost:8080/"
        },
        "id": "51iJST2O1OX7",
        "outputId": "e1d9ba38-5859-4875-a699-a34a3f28dd45"
      },
      "execution_count": 34,
      "outputs": [
        {
          "output_type": "execute_result",
          "data": {
            "text/plain": [
              "array([-8.        , -7.05263158, -6.10526316, -5.15789474, -4.21052632,\n",
              "       -3.26315789, -2.31578947, -1.36842105, -0.42105263,  0.52631579,\n",
              "        1.47368421,  2.42105263,  3.36842105,  4.31578947,  5.26315789,\n",
              "        6.21052632,  7.15789474,  8.10526316,  9.05263158, 10.        ])"
            ]
          },
          "metadata": {},
          "execution_count": 34
        }
      ]
    },
    {
      "cell_type": "code",
      "source": [
        "k = np.identity(4)  #identity matrix\n",
        "k"
      ],
      "metadata": {
        "colab": {
          "base_uri": "https://localhost:8080/"
        },
        "id": "kdJKg-Ii1T6R",
        "outputId": "9afd2940-5b7d-4ab0-ed0a-fc43eb73ad97"
      },
      "execution_count": 42,
      "outputs": [
        {
          "output_type": "execute_result",
          "data": {
            "text/plain": [
              "array([[1., 0., 0., 0.],\n",
              "       [0., 1., 0., 0.],\n",
              "       [0., 0., 1., 0.],\n",
              "       [0., 0., 0., 1.]])"
            ]
          },
          "metadata": {},
          "execution_count": 42
        }
      ]
    },
    {
      "cell_type": "code",
      "source": [
        "#dimensions/shape/size/itemsize\n",
        "print(k.ndim)\n",
        "print(k.shape)\n",
        "print(k.size)\n",
        "print(k.itemsize) #default 8bypte(int64)"
      ],
      "metadata": {
        "colab": {
          "base_uri": "https://localhost:8080/"
        },
        "id": "XNHsTZ1S1igF",
        "outputId": "cb25e5f3-0e35-4c93-8f80-a1ad4825f89b"
      },
      "execution_count": 48,
      "outputs": [
        {
          "output_type": "stream",
          "name": "stdout",
          "text": [
            "2\n",
            "(4, 4)\n",
            "16\n",
            "8\n"
          ]
        }
      ]
    },
    {
      "cell_type": "markdown",
      "source": [
        "# Changing Datatype"
      ],
      "metadata": {
        "id": "7UVmJy4d6vs2"
      }
    },
    {
      "cell_type": "code",
      "source": [
        "k=k.astype(np.int32)\n",
        "print(k)\n",
        "k.itemsize #size changed"
      ],
      "metadata": {
        "colab": {
          "base_uri": "https://localhost:8080/"
        },
        "id": "vlSk0OSW5fDl",
        "outputId": "b0a0ee28-99ed-410b-83e7-89c24dc45bb6"
      },
      "execution_count": 53,
      "outputs": [
        {
          "output_type": "stream",
          "name": "stdout",
          "text": [
            "[[1 0 0 0]\n",
            " [0 1 0 0]\n",
            " [0 0 1 0]\n",
            " [0 0 0 1]]\n"
          ]
        },
        {
          "output_type": "execute_result",
          "data": {
            "text/plain": [
              "4"
            ]
          },
          "metadata": {},
          "execution_count": 53
        }
      ]
    },
    {
      "cell_type": "markdown",
      "source": [
        "# Array Operations"
      ],
      "metadata": {
        "id": "toFf4hq17XaQ"
      }
    },
    {
      "cell_type": "code",
      "source": [
        "a1=np.arange(1,13).reshape(3,4)\n",
        "a2=np.arange(12,24).reshape(4,3)\n",
        "#scaler operations a1**2 a1/2 a1+5 a1-2\n",
        "a2/2"
      ],
      "metadata": {
        "colab": {
          "base_uri": "https://localhost:8080/"
        },
        "id": "Yp2BXSyA7GEt",
        "outputId": "76c5c076-19e6-4b5b-d0bf-f465dc685a37"
      },
      "execution_count": 66,
      "outputs": [
        {
          "output_type": "execute_result",
          "data": {
            "text/plain": [
              "array([[ 6. ,  6.5,  7. ],\n",
              "       [ 7.5,  8. ,  8.5],\n",
              "       [ 9. ,  9.5, 10. ],\n",
              "       [10.5, 11. , 11.5]])"
            ]
          },
          "metadata": {},
          "execution_count": 66
        }
      ]
    },
    {
      "cell_type": "code",
      "source": [
        "#vector operations\n",
        "a1+a2"
      ],
      "metadata": {
        "colab": {
          "base_uri": "https://localhost:8080/"
        },
        "id": "mhBXQmJD7EhF",
        "outputId": "3d239f59-3b1d-4581-d015-1e563eb6bd57"
      },
      "execution_count": 60,
      "outputs": [
        {
          "output_type": "execute_result",
          "data": {
            "text/plain": [
              "array([[13, 15, 17, 19],\n",
              "       [21, 23, 25, 27],\n",
              "       [29, 31, 33, 35]])"
            ]
          },
          "metadata": {},
          "execution_count": 60
        }
      ]
    },
    {
      "cell_type": "code",
      "source": [
        "a1@a2 #dot product a*p @ p*b = a*b"
      ],
      "metadata": {
        "colab": {
          "base_uri": "https://localhost:8080/"
        },
        "id": "sn6muPvJ7C9l",
        "outputId": "2ab2bebe-1752-434b-ce0b-0177f5f71e3f"
      },
      "execution_count": 68,
      "outputs": [
        {
          "output_type": "execute_result",
          "data": {
            "text/plain": [
              "array([[180, 190, 200],\n",
              "       [444, 470, 496],\n",
              "       [708, 750, 792]])"
            ]
          },
          "metadata": {},
          "execution_count": 68
        }
      ]
    },
    {
      "cell_type": "code",
      "source": [
        "a1*a1 #hadamard product a*p * a*p = a*p element wise multiplication"
      ],
      "metadata": {
        "colab": {
          "base_uri": "https://localhost:8080/"
        },
        "id": "Pj8zJf4v9iZX",
        "outputId": "a78b6a32-16c8-44c5-eb30-fde44ea864be"
      },
      "execution_count": 69,
      "outputs": [
        {
          "output_type": "execute_result",
          "data": {
            "text/plain": [
              "array([[  1,   4,   9,  16],\n",
              "       [ 25,  36,  49,  64],\n",
              "       [ 81, 100, 121, 144]])"
            ]
          },
          "metadata": {},
          "execution_count": 69
        }
      ]
    },
    {
      "cell_type": "code",
      "source": [
        "a1**a2"
      ],
      "metadata": {
        "colab": {
          "base_uri": "https://localhost:8080/"
        },
        "id": "PYans13o7ARZ",
        "outputId": "3e6757de-7788-4114-c4cc-854792a2ab3b"
      },
      "execution_count": 64,
      "outputs": [
        {
          "output_type": "execute_result",
          "data": {
            "text/plain": [
              "array([[                   1,                 8192,              4782969,\n",
              "                  1073741824],\n",
              "       [        152587890625,       16926659444736,     1628413597910449,\n",
              "          144115188075855872],\n",
              "       [-6289078614652622815,  3875820019684212736, -2732210440490168087,\n",
              "        -5038753926841630720]])"
            ]
          },
          "metadata": {},
          "execution_count": 64
        }
      ]
    },
    {
      "cell_type": "code",
      "source": [],
      "metadata": {
        "id": "MX1HfPe58Upr"
      },
      "execution_count": null,
      "outputs": []
    }
  ]
}